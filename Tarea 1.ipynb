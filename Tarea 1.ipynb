{
 "cells": [
  {
   "cell_type": "markdown",
   "id": "804048eb",
   "metadata": {},
   "source": [
    "<img src=\"Escudo_uaustralchile.png\" style=\"height=100px;display: block;margin-left:auto;margin-right:auto\"/>"
   ]
  },
  {
   "cell_type": "markdown",
   "id": "eb78fd89",
   "metadata": {},
   "source": [
    "## Instalación de Miniconda\n",
    "> + Para instalar Miniconda...\n",
    "\n",
    "## Instalación Visual Studio Code\n",
    "> + Para instalar Visual Studio Code...\n",
    "\n",
    "## Instalación Git\n",
    "> + Para instalar Git..."
   ]
  }
 ],
 "metadata": {
  "kernelspec": {
   "display_name": "acus099",
   "language": "python",
   "name": "acus099"
  },
  "language_info": {
   "codemirror_mode": {
    "name": "ipython",
    "version": 3
   },
   "file_extension": ".py",
   "mimetype": "text/x-python",
   "name": "python",
   "nbconvert_exporter": "python",
   "pygments_lexer": "ipython3",
   "version": "3.9.4"
  }
 },
 "nbformat": 4,
 "nbformat_minor": 5
}
