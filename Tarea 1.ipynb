{
 "cells": [
  {
   "cell_type": "markdown",
   "id": "48ba1c24-bcfc-4031-8b2c-f64237953722",
   "metadata": {},
   "source": [
    "Escribir sobre todo lo aprendido en clase"
   ]
  },
  {
   "cell_type": "code",
   "execution_count": null,
   "id": "ff530bb2-87e5-4517-a2c1-02700f323fd2",
   "metadata": {},
   "outputs": [],
   "source": []
  },
  {
   "cell_type": "markdown",
   "id": "28c78c3a",
   "metadata": {},
   "source": [
    "## Objetivo\n",
    "> + El objetivo de esta tarea es escribir los procedimientos de instalación de las herramientas de computación que se ocuparan en el curso."
   ]
  }
 ],
 "metadata": {
  "kernelspec": {
   "display_name": "acus099",
   "language": "python",
   "name": "acus099"
  },
  "language_info": {
   "codemirror_mode": {
    "name": "ipython",
    "version": 3
   },
   "file_extension": ".py",
   "mimetype": "text/x-python",
   "name": "python",
   "nbconvert_exporter": "python",
   "pygments_lexer": "ipython3",
   "version": "3.9.4"
  }
 },
 "nbformat": 4,
 "nbformat_minor": 5
}
