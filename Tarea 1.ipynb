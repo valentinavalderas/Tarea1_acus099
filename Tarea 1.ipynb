{
 "cells": [
  {
   "cell_type": "markdown",
   "id": "804048eb",
   "metadata": {},
   "source": [
    "<img src=\"Escudo_uaustralchile.png\" style=\"height=100px;display: block;margin-left:auto;margin-right:auto\"/>"
   ]
  },
  {
   "cell_type": "markdown",
   "id": "523a3f2f-daa1-45d7-b7b1-bed6a2cdf59a",
   "metadata": {},
   "source": [
    "# ¿Qué hemos aprendido en acus099?"
   ]
  },
  {
   "cell_type": "markdown",
   "id": "8705fc7c-81af-454b-b261-243597638810",
   "metadata": {},
   "source": [
    "### Terminal\n",
    "+ Aprendimos a abrir el terminal del computador utilizando las teclas \"windows\" y \"r\", para luego escribir \"cmd\" en el ejecutador.\n",
    "### Miniconda\n",
    "+ Para instalar miniconda vamos al siguiente link \"https://docs.anaconda.com/free/miniconda/\", el cual fue buscado previamente en google. Luego se apreta en windows, mac o linux y se siguen las instrucciones de instalación.\n",
    "+ Creamos un entorno (definición entorno) utilizando “conda create -n acus099”.\n",
    "+ Activamos el entorno utilizando \"conda activate acus099\".\n",
    "### Python\n",
    "+ Instalamos python 3.9.4 en el entorno creado.\n",
    "### Git\n",
    "+ Software de control de versiones\n",
    "+ Para instalar Git...\n",
    "+ Creamos perfil en Github\n",
    "+ Aprendimos a crear y usar repositorios\n",
    "### Visual Studio Code\n",
    "+ Para instalar Visual Studio vamos al siguiente link: [Pág. para instalar VSC](https://code.visualstudio.com/download) buscado en google. Al igual que miniconda, elegimos el sistema operativo que tenga nuestro computador y seguimos las instrucciones de instalación comunicadas en clase.\n",
    "+ Iniciamos sesión con la cuenta de Github\n",
    "+ Instalamos extensiones\n",
    "### Librerías\n",
    "+ Para instalar librerias utilizamos \"conda install librería\" o \"pip install librería\"\n",
    "+ Las librerías instaladas hasta el momento son:\n",
    "  + numpy\n",
    "  + matplotlib\n",
    "  + librosa\n",
    "  + pysoundfile\n",
    "  + pandas\n",
    "  + scipy\n",
    "  + pyaudio\n",
    "  + wave"
   ]
  },
  {
   "cell_type": "markdown",
   "id": "6f2ab61f-621e-47c8-a83e-80b2d1f4ed63",
   "metadata": {},
   "source": [
    "### Jupyter Notebook\n",
    "+ Para instalarlo, escribimos en el entorno del terminal \"conda install jupyter notebook\"\n",
    "+ Para abrirlo debemos escribir “jupyter notebook” en el terminal y elegir el buscador de internet de nuestra preferencia.\n",
    "+ Aprendimos a crear cuadernillos, elegir si usar code o markdown, poner número a las líneas y cambiar el color del Jupyter.\n",
    "+ Aprendimos a usar markdown y latex, poniendo fotos, videos y links.\n",
    "+ Aprendimos algunos comandos shortcuts como \"esc + a\" para agregar una línea hacia arriba, \"esc + b\" para agregar una línea hacia abajo y \"esc + dd\" para borrar una línea.\n",
    "+ Aprendimos a importar librerías"
   ]
  },
  {
   "cell_type": "code",
   "execution_count": 2,
   "id": "b103a4f6-dce5-45df-8100-24fdd3fcd2f0",
   "metadata": {},
   "outputs": [
    {
     "name": "stdout",
     "output_type": "stream",
     "text": [
      "[-10.  -5.   0.   5.  10.]\n"
     ]
    }
   ],
   "source": [
    "import numpy as np\n",
    "x = np.linspace(-10, 10, 5) #Inicio, llegada, pasos\n",
    "print(x)"
   ]
  },
  {
   "cell_type": "code",
   "execution_count": 3,
   "id": "b7586ab4-3264-44f0-a4e8-1f5c17ed9049",
   "metadata": {},
   "outputs": [
    {
     "data": {
      "text/plain": [
       "(5,)"
      ]
     },
     "execution_count": 3,
     "metadata": {},
     "output_type": "execute_result"
    }
   ],
   "source": [
    "x.shape #Mide lo que contiene, en este caso son 5 filas"
   ]
  },
  {
   "cell_type": "markdown",
   "id": "61144648-38df-47b5-b8bd-b1dc5c8bc891",
   "metadata": {
    "vscode": {
     "languageId": "plaintext"
    }
   },
   "source": [
    "+ Aprendimos a usar for"
   ]
  },
  {
   "cell_type": "code",
   "execution_count": null,
   "id": "271712e9-127a-4808-a1db-c74c47a40843",
   "metadata": {},
   "outputs": [],
   "source": [
    "for n in range(1,11):\n",
    "    print(n)"
   ]
  },
  {
   "cell_type": "markdown",
   "id": "0cd6b8d7-8e8a-47d3-9f02-e9dc18b39cc7",
   "metadata": {},
   "source": [
    "+ Aprendimos a usar \"pwd\", directorio principal de trabajo, sirve cuando uno se pierden de donde se está trabajando\n",
    "+ Aprendimos a grabar un audio y poder reproducirlo después\n",
    "+ Aprendimos a crear una función"
   ]
  },
  {
   "cell_type": "code",
   "execution_count": 5,
   "id": "6d7a7315-415e-485d-a798-b4dfe5b732c4",
   "metadata": {},
   "outputs": [],
   "source": [
    "def delta(n,p):\n",
    "    #print(n)\n",
    "    return 1.*(n==p)"
   ]
  },
  {
   "cell_type": "markdown",
   "id": "a0804143-ce3b-42c9-9df9-d35f90efe1b4",
   "metadata": {},
   "source": [
    "+ Apredimos a crear gráficos con matplotlib"
   ]
  },
  {
   "cell_type": "code",
   "execution_count": 7,
   "id": "9cd2356d-a13b-430f-8856-6e682c8dd450",
   "metadata": {},
   "outputs": [
    {
     "data": {
      "image/png": "[encoded data removed]",
      "text/plain": [
       "<Figure size 1000x300 with 1 Axes>"
      ]
     },
     "metadata": {},
     "output_type": "display_data"
    }
   ],
   "source": [
    "n=np.arange(-5,5)\n",
    "import matplotlib.pyplot as plt\n",
    "plt.figure(figsize=(10,3))\n",
    "plt.figure(1)\n",
    "plt.stem(n,delta(n,-2));"
   ]
  },
  {
   "cell_type": "code",
   "execution_count": null,
   "id": "ef3811ce-c25e-4608-b671-46e88ba6cdbb",
   "metadata": {},
   "outputs": [],
   "source": []
  }
 ],
 "metadata": {
  "kernelspec": {
   "display_name": "acus099",
   "language": "python",
   "name": "acus099"
  },
  "language_info": {
   "codemirror_mode": {
    "name": "ipython",
    "version": 3
   },
   "file_extension": ".py",
   "mimetype": "text/x-python",
   "name": "python",
   "nbconvert_exporter": "python",
   "pygments_lexer": "ipython3",
   "version": "3.9.4"
  }
 },
 "nbformat": 4,
 "nbformat_minor": 5
}
