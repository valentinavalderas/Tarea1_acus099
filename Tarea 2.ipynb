{
 "cells": [
  {
   "cell_type": "code",
   "execution_count": null,
   "id": "e79373f7-8194-435d-a570-c1859c202047",
   "metadata": {},
   "outputs": [],
   "source": [
    "<img src=\"Escudo_uaustralchile.png\" style=\"height=100px;display: block;margin-left:auto;margin-right:auto\"/>"
   ]
  },
  {
   "cell_type": "markdown",
   "id": "28bb2b32-0ea7-4790-b95f-535ed5cc2b83",
   "metadata": {},
   "source": [
    "### Integrantes:\n",
    "+ Kamila Gamboa (kamila dot gamboa at alumnos dot uach dot cl)\n",
    "+ Valentina Valderas (valentina dot valderas at alumnos dot uach dot cl)"
   ]
  },
  {
   "cell_type": "markdown",
   "id": "897f6ec9-0724-4dc5-a569-144cbeeb889b",
   "metadata": {},
   "source": [
    "### Objetivos:\n",
    "> + Explicar qué es la convolución\n",
    "> + Explicar matemáticamente como se realiza una convolución\n",
    "> + Crear un código que realice la convolución\n",
    "> + Graficar convolución\n",
    "> + Crear un código que muestre paso por paso cómo se grafica la convolución, a medida que esta se está calculando"
   ]
  },
  {
   "cell_type": "markdown",
   "id": "850a1cda-a810-4d4b-a1ed-63626706570b",
   "metadata": {},
   "source": [
    "# ¿Qué es la convolución?\n",
    "+ La convolución superpone, matematicamente, dos señales y se obtiene como resultado una nueva señal.\n",
    "+ El sistema lineal e invariante en el tiempo (LTI) de la convolución tiene una entrada x(n), que corresponde a una señal, esta se convoluciona con una señal h(n), que corresponde a la respuesta impulso de una sala y finalmente se obtiene como salida y(n) que es la nueva señal.\n",
    "+ En el caso del procesamiento digital de señales se considera el tiempo discreto.\n",
    "+ El largo de la señal y(n) que se obtiene corresponde al largo de la señal x(n) más el largo de la señal h(n) menos 1. Es decir, len(y(n))=len(x(n))+len(h(n))-1\n",
    "## Matemáticamente:\n",
    "+ Como se utiliza tiempo discreto, se define la convolución como una sumatoria, tal como se puede ver a continuación.\n",
    "\\begin{align*}\n",
    "y[n]&= \\sum_{k=-\\infty}^{\\infty}  x[k] \\cdot h[n-k]\n",
    "\\end{align*}\n",
    "+ En esta sumatoria la k es el índice de la sumatoria e indica la posición de la señal que se está multiplicando.\n",
    "+ La n es la posición del vector y que se quiere obtener.\n",
    "+ Para obtener la nueva señal, se deben calcular los valores uno a uno.\n",
    "+ La convolución para n<0 siempre es 0.\n",
    "+ En esta sumatoria primero se refleja h, ya que el k es negativo, y luego se posiciona según el n.\n",
    "+ Posteriormente, se multiplican los valores de los vectores que coinciden y se suman.\n",
    "\n",
    "+ Además, la convolución es conmutativa, por lo que también se puede obtener y[n] de la siguiente forma.\n",
    "\\begin{align*}\n",
    "y[n]&= \\sum_{k=-\\infty}^{\\infty}  h[k] \\cdot x[n-k]\n",
    "\\end{align*}\n",
    "+ De forma simple, se puede explicar la convolución como un vector de datos (señal 1), que se multiplica y suma uno a uno con otro vector de datos (señal 2) para obtener una tercera señal y[n].\n",
    "### Ejemplo:\n",
    "+ A continuación se muestra, mediante un ejemplo con valores, cómo se calcula la convolución matemáticamente.\n",
    "> Considerando 2 señales:\\\n",
    "> x[n] = [5, 7, 0, 3, 2]\\\n",
    "> h[n] = [1, 4]\\\n",
    "> Como se mencionó anteriormente, para n < 0: y[n] = 0\\\n",
    "> Para n = 0: y[0] = 4*0 + 1*5 = 5\\\n",
    "> Para n = 1: y[1] = 4*5 + 1*7 = 27\\\n",
    "> Para n = 2: y[2] = 4*7 + 1*0 = 28\\\n",
    "> Para n = 3: y[3] = 4*0 + 1*3 = 3\\\n",
    "> Para n = 4: y[4] = 4*3 + 1*2 = 14\\\n",
    "> Para n = 5: y[5] = 4*2 + 1*0 = 8\\\n",
    "> Luego, para n > 5: y[n]=0\\\n",
    "> Entonces, se obtiene una nueva señal y[n] = [5, 27, 28, 3, 14, 8]\\\n",
    "> Además, se comprueba que el largo de la señal y[n] es la suma de los largos de las señales x[n] y h[n] menos 1.\n",
    "+ Se puede comprobar en python si este vector y[n] es correcto mediante la función de numpy np.convolve, tal como se ve a continuación."
   ]
  },
  {
   "cell_type": "code",
   "execution_count": 6,
   "id": "fe21e82c-af5d-47fb-82a6-a8e910f66442",
   "metadata": {},
   "outputs": [
    {
     "data": {
      "text/plain": [
       "array([ 5, 27, 28,  3, 14,  8])"
      ]
     },
     "execution_count": 6,
     "metadata": {},
     "output_type": "execute_result"
    }
   ],
   "source": [
    "import numpy as np\n",
    "x=[5,7,0,3,2]\n",
    "h=[1,4]\n",
    "np.convolve(x,h)"
   ]
  },
  {
   "cell_type": "markdown",
   "id": "c95077ea-d113-4a25-ab3d-14fd6e6000d2",
   "metadata": {},
   "source": [
    "## Python:\n",
    "+ Entendiendo cómo se calcula la convolución matemáticamente se puede crear una función en python que permita obtener la convolución de dos señales.\n",
    "> Para crear una función, primero se debe definir un nombre y qué variables tomará.\\\n",
    "> Sabiendo que el largo de y[n] es la suma de los largos de las dos primeras señales restándole 1, se crea un vector con 0 prealocados.\\\n",
    "> Al ser una sumatoria, se puede utilizar ciclos for que permiten realizar el mismo cálculo con distintos valores.\\\n",
    "> Primero se debe crear un ciclo for para n que tome valores desde 0 hasta el largo de la primera señal que se utilizará en la convolución, es decir desde n = 0 hasta n = len(x).\\\n",
    "> Luego, dentro de este ciclo for se crea otro ciclo para k, que tomará valores desde 0 hasta el largo de la segunda señal, len(h).\\\n",
    "> Dentro de este ciclo se realiza el cálculo para cada valor que formará parte de y[n].\\\n",
    "> Finalmente, la función devolverá el vector y[n].\n",
    "+ En la siguiente celda se puede ver la función creada para el cálculo de la convolución."
   ]
  },
  {
   "cell_type": "code",
   "execution_count": 3,
   "id": "438b1df0-8001-4311-82cc-fa27eb1dd02e",
   "metadata": {},
   "outputs": [],
   "source": [
    "def convolucion(x,h):\n",
    "    y=(len(x)+len(h)-1)*[0]\n",
    "    for n in range (len(x)):\n",
    "        for k in range (len(h)):\n",
    "            y[n+k]+=x[n]*h[k]\n",
    "    return y    "
   ]
  },
  {
   "cell_type": "markdown",
   "id": "c42097d8-d616-4f1e-b561-57da6f538f4d",
   "metadata": {},
   "source": [
    "### Ejemplo:\n",
    "+ Considerando las mismas señales del ejemplo anterior, se comprueba el funcionamiento de la función."
   ]
  },
  {
   "cell_type": "code",
   "execution_count": 7,
   "id": "b436fda5-47fb-4970-b7db-a99281783df7",
   "metadata": {},
   "outputs": [
    {
     "data": {
      "text/plain": [
       "[5, 27, 28, 3, 14, 8]"
      ]
     },
     "execution_count": 7,
     "metadata": {},
     "output_type": "execute_result"
    }
   ],
   "source": [
    "x=[5,7,0,3,2]\n",
    "h=[1,4]\n",
    "convolucion(x,h)"
   ]
  },
  {
   "cell_type": "code",
   "execution_count": null,
   "id": "6609c95d-3885-4bfa-8a33-013f36fa9bd2",
   "metadata": {},
   "outputs": [],
   "source": []
  }
 ],
 "metadata": {
  "kernelspec": {
   "display_name": "acus099",
   "language": "python",
   "name": "acus099"
  },
  "language_info": {
   "codemirror_mode": {
    "name": "ipython",
    "version": 3
   },
   "file_extension": ".py",
   "mimetype": "text/x-python",
   "name": "python",
   "nbconvert_exporter": "python",
   "pygments_lexer": "ipython3",
   "version": "3.9.18"
  }
 },
 "nbformat": 4,
 "nbformat_minor": 5
}
